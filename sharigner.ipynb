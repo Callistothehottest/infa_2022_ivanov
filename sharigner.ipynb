{
 "cells": [
  {
   "cell_type": "code",
   "execution_count": 16,
   "metadata": {},
   "outputs": [
    {
     "name": "stdout",
     "output_type": "stream",
     "text": [
      "click\n",
      "click\n"
     ]
    }
   ],
   "source": [
    "from tkinter import *\n",
    "from random import randrange as rnd, choice\n",
    "import time\n",
    "root = Tk()\n",
    "root.geometry('800x600')\n",
    "\n",
    "canv = Canvas(root,bg='white')\n",
    "l = Label(root, bg='black', fg='white', width=40)\n",
    "l.pack()\n",
    "canv.pack(fill=BOTH,expand=1)\n",
    "i=0\n",
    "balls = []\n",
    "\n",
    "colors = ['red','orange','yellow','green','blue']\n",
    "a = 600\n",
    "def new_ball():\n",
    "\tglobal x, y, r\n",
    "\tx = rnd(100,700)\n",
    "\ty = rnd(100,500)\n",
    "\tr = rnd(30,50)\n",
    "\tvx = rnd(-3,3)\n",
    "\tvy = rnd(-3,3)\n",
    "\tid_ = canv.create_oval(x-r,y-r,x+r,y+r,fill = choice(colors),width=0)\n",
    "\tball = {\n",
    "\t\t\t\t'id': id_,\n",
    "\t\t\t\t'x': x,\n",
    "\t\t\t\t'y': y,\n",
    "\t\t\t\t'vx': vx,\n",
    "\t\t\t\t'vy': vy\n",
    "\t\t\t}\n",
    "\tballs.append(ball)\n",
    "\troot.after(a,new_ball)\n",
    "\tl['text'] = 'Score: ' + str(i)\n",
    "\t\n",
    "def click(event):\n",
    "\tglobal i, a\n",
    "\tfor k, b in enumerate(balls):\n",
    "\t\tif (event.x-b['x'])**2 + (event.y-b['y'])**2 <= r**2:\n",
    "\t\t\ti+=1\n",
    "\t\t\tcanv.delete(b['id'])\n",
    "\t\t\tdel balls[k]\n",
    "\n",
    "\tprint('click')\n",
    "\t\n",
    "def motion():\n",
    "    for b in balls:\n",
    "        if b['x'] < r or b['x'] > 800-r:\n",
    "            b['vx'] = -b['vx']\n",
    "        if b['y'] < r or b['y'] > 600-r:\n",
    "            b['vy'] = -b['vy']\n",
    "        canv.move(b['id'], b['vx'], b['vy'])\n",
    "        b['x'] += b['vx']\n",
    "        b['y'] += b['vy']\n",
    "    root.after(10, motion)  \n",
    "\t\t\t\t\n",
    "new_ball()\n",
    "motion()\n",
    "canv.bind('<Button-1>',click)\n",
    "mainloop()\t\t\t\n"
   ]
  },
  {
   "cell_type": "code",
   "execution_count": null,
   "metadata": {},
   "outputs": [],
   "source": []
  }
 ],
 "metadata": {
  "kernelspec": {
   "display_name": "Python 3",
   "language": "python",
   "name": "python3"
  },
  "language_info": {
   "codemirror_mode": {
    "name": "ipython",
    "version": 3
   },
   "file_extension": ".py",
   "mimetype": "text/x-python",
   "name": "python",
   "nbconvert_exporter": "python",
   "pygments_lexer": "ipython3",
   "version": "3.8.3"
  }
 },
 "nbformat": 4,
 "nbformat_minor": 4
}
